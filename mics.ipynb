{
 "cells": [
  {
   "cell_type": "code",
   "execution_count": 4,
   "metadata": {},
   "outputs": [
    {
     "data": {
      "text/plain": [
       "[(1, 'Microphone (WOER)'),\n",
       " (9, 'Microphone (WOER)'),\n",
       " (21, 'Microphone (WOER)'),\n",
       " (27, 'Microphone (WOER)')]"
      ]
     },
     "execution_count": 4,
     "metadata": {},
     "output_type": "execute_result"
    }
   ],
   "source": [
    "import speech_recognition as sr\n",
    "[(i,v) for i,v in enumerate(sr.Microphone.list_microphone_names()) if v == \"Microphone (WOER)\"]"
   ]
  },
  {
   "cell_type": "code",
   "execution_count": 3,
   "metadata": {},
   "outputs": [
    {
     "name": "stdout",
     "output_type": "stream",
     "text": [
      "Testing microphone 0: Microsoft Sound Mapper - Input\n",
      "Please say something...\n",
      "Testing microphone 1: Microphone (WOER)\n",
      "Please say something...\n",
      "Testing microphone 2: Microphone (8- SADES Hammer)\n",
      "Please say something...\n"
     ]
    }
   ],
   "source": [
    "import speech_recognition as sr\n",
    "import pyaudio  # Required for playing back audio\n",
    "import wave\n",
    "\n",
    "mic_list = sr.Microphone.list_microphone_names()\n",
    "\n",
    "for i, microphone_name in enumerate(mic_list):\n",
    "    print(f\"Testing microphone {i}: {microphone_name}\")\n",
    "    recognizer = sr.Recognizer()\n",
    "    with sr.Microphone(device_index=i) as source:\n",
    "        print(\"Please say something...\")\n",
    "        audio_data = recognizer.listen(source, timeout=5)\n",
    "        \n",
    "    # Save the audio data to a file\n",
    "    with wave.open(f\"mic_test_{i}.wav\", \"wb\") as f:\n",
    "        f.setnchannels(1)\n",
    "        f.setsampwidth(audio_data.sample_width)\n",
    "        f.setframerate(audio_data.sample_rate)\n",
    "        f.writeframes(audio_data.get_wav_data())\n",
    "        \n",
    "    # Play the audio data (optional)\n",
    "    p = pyaudio.PyAudio()\n",
    "    stream = p.open(format=p.get_format_from_width(audio_data.sample_width),\n",
    "                    channels=1,\n",
    "                    rate=audio_data.sample_rate,\n",
    "                    output=True)\n",
    "    stream.write(audio_data.get_wav_data())\n",
    "    stream.stop_stream()\n",
    "    stream.close()\n",
    "    p.terminate()\n",
    "\n",
    "    cont = input(\"Continue testing next microphone? (y/n): \")\n",
    "    if cont.lower() != 'y':\n",
    "        break\n"
   ]
  }
 ],
 "metadata": {
  "kernelspec": {
   "display_name": "whisperx",
   "language": "python",
   "name": "python3"
  },
  "language_info": {
   "codemirror_mode": {
    "name": "ipython",
    "version": 3
   },
   "file_extension": ".py",
   "mimetype": "text/x-python",
   "name": "python",
   "nbconvert_exporter": "python",
   "pygments_lexer": "ipython3",
   "version": "3.10.13"
  },
  "orig_nbformat": 4
 },
 "nbformat": 4,
 "nbformat_minor": 2
}
