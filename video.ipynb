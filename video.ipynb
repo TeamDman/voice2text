{
 "cells": [
  {
   "cell_type": "markdown",
   "metadata": {},
   "source": [
    "https://github.com/m-bain/whisperX"
   ]
  },
  {
   "cell_type": "markdown",
   "metadata": {},
   "source": [
    "turbo model release #2363  \n",
    "https://github.com/openai/whisper/discussions/2363"
   ]
  },
  {
   "cell_type": "code",
   "execution_count": null,
   "metadata": {},
   "outputs": [],
   "source": [
    "import whisperx\n",
    "model = \"large-v2\"\n",
    "audio_model = whisperx.load_model(model, device=\"cuda\", language=\"en\")\n",
    "     "
   ]
  },
  {
   "cell_type": "code",
   "execution_count": 2,
   "metadata": {},
   "outputs": [],
   "source": [
    "# audio_path = r\"C:\\Users\\TeamD\\OneDrive\\Documents\\Ideas\\YouTube\\Downloads\\2024\\10\\12\\NSA Releases Internal 1982 Lecture by Computing Pioneer Rear Admiral Grace Hopper [_bP14OzIJWI].webm\"\n",
    "# audio_path = r\"D:\\Repos\\ml\\voice2text\\rust\\output.wav\"\n",
    "audio_path = r\"G:\\OBS Raws\\2024-03-16 23-56-46.mkv\""
   ]
  },
  {
   "cell_type": "code",
   "execution_count": null,
   "metadata": {},
   "outputs": [],
   "source": [
    "audio_data = whisperx.load_audio(audio_path)\n",
    "print(audio_data)"
   ]
  },
  {
   "cell_type": "code",
   "execution_count": null,
   "metadata": {},
   "outputs": [],
   "source": [
    "print(audio_data.shape)"
   ]
  },
  {
   "cell_type": "code",
   "execution_count": 5,
   "metadata": {},
   "outputs": [],
   "source": [
    "result = audio_model.transcribe(audio_data, batch_size=16)"
   ]
  },
  {
   "cell_type": "code",
   "execution_count": 9,
   "metadata": {},
   "outputs": [],
   "source": [
    "x = \"\\n\".join([r[\"text\"] for r in result[\"segments\"]])"
   ]
  },
  {
   "cell_type": "code",
   "execution_count": null,
   "metadata": {},
   "outputs": [],
   "source": [
    "count_fuck = x.lower().count(\"fuck\")\n",
    "print(count_fuck)"
   ]
  },
  {
   "cell_type": "code",
   "execution_count": null,
   "metadata": {},
   "outputs": [],
   "source": [
    "import matplotlib.pyplot as plt\n",
    "\n",
    "# Data from the user's transcription result\n",
    "segments = result[\"segments\"]\n",
    "\n",
    "# Find timestamps where \"fuck\" is said\n",
    "timestamps = [seg['start'] for seg in segments if \"fuck\" in seg['text'].lower()]\n",
    "\n",
    "# Plotting the timestamps\n",
    "plt.figure(figsize=(10, 2))\n",
    "plt.scatter(timestamps, [1] * len(timestamps), marker='o', color='r')\n",
    "plt.yticks([])\n",
    "plt.title(\"Timestamps of 'fuck' in Audio Transcript\")\n",
    "plt.xlabel(\"Time (seconds)\")\n",
    "plt.show()\n"
   ]
  },
  {
   "cell_type": "code",
   "execution_count": null,
   "metadata": {},
   "outputs": [],
   "source": [
    "%pip install wordcloud"
   ]
  },
  {
   "cell_type": "code",
   "execution_count": null,
   "metadata": {},
   "outputs": [],
   "source": [
    "from wordcloud import WordCloud\n",
    "\n",
    "# Combine all text segments\n",
    "all_text = \" \".join([seg['text'] for seg in segments])\n",
    "\n",
    "# Generate the word cloud\n",
    "wordcloud = WordCloud(width=800, height=400, background_color=\"white\").generate(all_text)\n",
    "\n",
    "# Display the word cloud\n",
    "plt.figure(figsize=(10, 5))\n",
    "plt.imshow(wordcloud, interpolation=\"bilinear\")\n",
    "plt.axis(\"off\")\n",
    "plt.title(\"Word Cloud of Helldivers 2 Session\")\n",
    "plt.show()"
   ]
  },
  {
   "cell_type": "code",
   "execution_count": null,
   "metadata": {},
   "outputs": [],
   "source": [
    "result"
   ]
  },
  {
   "cell_type": "code",
   "execution_count": null,
   "metadata": {},
   "outputs": [],
   "source": [
    "audio_data2 = whisperx.load_audio(r\"G:\\OBS Raws\\raddest plays siege\\2021-07-19 21-15-35.mkv\")\n",
    "print(audio_data2.shape)"
   ]
  },
  {
   "cell_type": "code",
   "execution_count": null,
   "metadata": {},
   "outputs": [],
   "source": [
    "result2 = audio_model.transcribe(audio_data2, batch_size=16)\n",
    "print(len(result2[\"segments\"]))"
   ]
  },
  {
   "cell_type": "code",
   "execution_count": null,
   "metadata": {},
   "outputs": [],
   "source": [
    "result2"
   ]
  },
  {
   "cell_type": "code",
   "execution_count": null,
   "metadata": {},
   "outputs": [],
   "source": [
    "segments2 = result2[\"segments\"]\n",
    "\n",
    "# Find timestamps where \"fuck\" is said\n",
    "timestamps = [seg['start'] for seg in segments2 if \"fuck\" in seg['text'].lower()]\n",
    "\n",
    "# Plotting the timestamps\n",
    "plt.figure(figsize=(10, 2))\n",
    "plt.scatter(timestamps, [1] * len(timestamps), marker='o', color='r')\n",
    "plt.yticks([])\n",
    "plt.title(\"Timestamps of 'fuck' in Audio Transcript\")\n",
    "plt.xlabel(\"Time (seconds)\")\n",
    "plt.show()"
   ]
  },
  {
   "cell_type": "code",
   "execution_count": null,
   "metadata": {},
   "outputs": [],
   "source": [
    "# Combine all text segments\n",
    "all_text = \" \".join([seg['text'] for seg in segments2])\n",
    "\n",
    "# Generate the word cloud\n",
    "wordcloud = WordCloud(width=800, height=400, background_color=\"white\").generate(all_text)\n",
    "\n",
    "# Display the word cloud\n",
    "plt.figure(figsize=(10, 5))\n",
    "plt.imshow(wordcloud, interpolation=\"bilinear\")\n",
    "plt.axis(\"off\")\n",
    "plt.title(\"Word Cloud from Raddest Plays R6 Siege Session\")\n",
    "plt.show()"
   ]
  },
  {
   "cell_type": "code",
   "execution_count": null,
   "metadata": {},
   "outputs": [],
   "source": [
    "import json\n",
    "import os\n",
    "\n",
    "# Replace the file extension with .json\n",
    "json_path = os.path.splitext(audio_path)[0] + '.json'\n",
    "print(json_path)"
   ]
  },
  {
   "cell_type": "code",
   "execution_count": null,
   "metadata": {},
   "outputs": [],
   "source": [
    "\n",
    "# Write the result to the JSON file\n",
    "with open(json_path, 'w') as json_file:\n",
    "    json.dump(result, json_file, indent=2)\n",
    "\n",
    "print(f\"Results written to {json_path}\")"
   ]
  },
  {
   "cell_type": "code",
   "execution_count": null,
   "metadata": {},
   "outputs": [],
   "source": [
    "import numpy as np\n",
    "import soundfile as sf\n",
    "\n",
    "def load_audio(file: str):\n",
    "    audio_data, sample_rate = sf.read(file, dtype='float32')\n",
    "    # Ensure audio is mono and at 16kHz\n",
    "    assert sample_rate == 16000, \"Sample rate mismatch\"\n",
    "    assert audio_data.ndim == 1, \"Must be mono\"\n",
    "    return audio_data\n",
    "\n",
    "audio = load_audio(r\"D:\\Repos\\ml\\voice2text\\rust\\output.wav\")\n",
    "audio"
   ]
  },
  {
   "cell_type": "code",
   "execution_count": null,
   "metadata": {},
   "outputs": [],
   "source": [
    "audio_model.transcribe(audio, batch_size=16)"
   ]
  },
  {
   "cell_type": "code",
   "execution_count": null,
   "metadata": {},
   "outputs": [],
   "source": []
  }
 ],
 "metadata": {
  "kernelspec": {
   "display_name": "whisperx",
   "language": "python",
   "name": "python3"
  },
  "language_info": {
   "codemirror_mode": {
    "name": "ipython",
    "version": 3
   },
   "file_extension": ".py",
   "mimetype": "text/x-python",
   "name": "python",
   "nbconvert_exporter": "python",
   "pygments_lexer": "ipython3",
   "version": "3.10.13"
  }
 },
 "nbformat": 4,
 "nbformat_minor": 2
}
