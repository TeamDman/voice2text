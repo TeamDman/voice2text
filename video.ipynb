{
 "cells": [
  {
   "cell_type": "markdown",
   "metadata": {},
   "source": [
    "https://github.com/m-bain/whisperX"
   ]
  },
  {
   "cell_type": "markdown",
   "metadata": {},
   "source": [
    "turbo model release #2363  \n",
    "https://github.com/openai/whisper/discussions/2363"
   ]
  },
  {
   "cell_type": "code",
   "execution_count": 1,
   "metadata": {},
   "outputs": [
    {
     "name": "stderr",
     "output_type": "stream",
     "text": [
      "c:\\Users\\TeamD\\.conda\\envs\\whisperx\\lib\\site-packages\\tqdm\\auto.py:21: TqdmWarning: IProgress not found. Please update jupyter and ipywidgets. See https://ipywidgets.readthedocs.io/en/stable/user_install.html\n",
      "  from .autonotebook import tqdm as notebook_tqdm\n",
      "The torchaudio backend is switched to 'soundfile'. Note that 'sox_io' is not supported on Windows.\n",
      "The torchaudio backend is switched to 'soundfile'. Note that 'sox_io' is not supported on Windows.\n",
      "Lightning automatically upgraded your loaded checkpoint from v1.5.4 to v2.0.9. To apply the upgrade to your files permanently, run `python -m pytorch_lightning.utilities.upgrade_checkpoint --file C:\\Users\\TeamD\\.cache\\torch\\whisperx-vad-segmentation.bin`\n"
     ]
    },
    {
     "name": "stdout",
     "output_type": "stream",
     "text": [
      "Model was trained with pyannote.audio 0.0.1, yours is 2.1.1. Bad things might happen unless you revert pyannote.audio to 0.x.\n",
      "Model was trained with torch 1.10.0+cu102, yours is 2.0.1+cu118. Bad things might happen unless you revert torch to 1.x.\n"
     ]
    }
   ],
   "source": [
    "import whisperx\n",
    "model = \"large-v2\"\n",
    "audio_model = whisperx.load_model(model, device=\"cuda\", language=\"en\")\n",
    "     "
   ]
  },
  {
   "cell_type": "code",
   "execution_count": 2,
   "metadata": {},
   "outputs": [],
   "source": [
    "# audio_path = r\"C:\\Users\\TeamD\\OneDrive\\Documents\\Ideas\\YouTube\\Downloads\\2024\\10\\12\\NSA Releases Internal 1982 Lecture by Computing Pioneer Rear Admiral Grace Hopper [_bP14OzIJWI].webm\"\n",
    "audio_path = r\"D:\\Repos\\ml\\voice2text\\rust\\output.wav\""
   ]
  },
  {
   "cell_type": "code",
   "execution_count": 3,
   "metadata": {},
   "outputs": [
    {
     "name": "stdout",
     "output_type": "stream",
     "text": [
      "[0.01043701 0.00457764 0.00109863 ... 0.00097656 0.00061035 0.0005188 ]\n"
     ]
    }
   ],
   "source": [
    "audio_data = whisperx.load_audio(audio_path)\n",
    "print(audio_data)"
   ]
  },
  {
   "cell_type": "code",
   "execution_count": 6,
   "metadata": {},
   "outputs": [
    {
     "name": "stdout",
     "output_type": "stream",
     "text": [
      "(160640,)\n"
     ]
    }
   ],
   "source": [
    "print(audio_data.shape)"
   ]
  },
  {
   "cell_type": "code",
   "execution_count": 4,
   "metadata": {},
   "outputs": [],
   "source": [
    "result = audio_model.transcribe(audio_data, batch_size=16)"
   ]
  },
  {
   "cell_type": "code",
   "execution_count": 5,
   "metadata": {},
   "outputs": [
    {
     "data": {
      "text/plain": [
       "{'segments': [{'text': ' 1, 2, 3, 4, 5, 6, 7, 8, 9, 10, 11, 12, 13',\n",
       "   'start': 0.008,\n",
       "   'end': 9.982}],\n",
       " 'language': 'en'}"
      ]
     },
     "execution_count": 5,
     "metadata": {},
     "output_type": "execute_result"
    }
   ],
   "source": [
    "result"
   ]
  },
  {
   "cell_type": "code",
   "execution_count": 7,
   "metadata": {},
   "outputs": [
    {
     "name": "stdout",
     "output_type": "stream",
     "text": [
      "C:\\Users\\TeamD\\OneDrive\\Documents\\Ideas\\YouTube\\Downloads\\2024\\10\\12\\NSA Releases Internal 1982 Lecture by Computing Pioneer Rear Admiral Grace Hopper [_bP14OzIJWI].json\n"
     ]
    }
   ],
   "source": [
    "import json\n",
    "import os\n",
    "\n",
    "# Replace the file extension with .json\n",
    "json_path = os.path.splitext(audio_path)[0] + '.json'\n",
    "print(json_path)"
   ]
  },
  {
   "cell_type": "code",
   "execution_count": 9,
   "metadata": {},
   "outputs": [
    {
     "name": "stdout",
     "output_type": "stream",
     "text": [
      "Results written to C:\\Users\\TeamD\\OneDrive\\Documents\\Ideas\\YouTube\\Downloads\\2024\\10\\12\\NSA Releases Internal 1982 Lecture by Computing Pioneer Rear Admiral Grace Hopper [_bP14OzIJWI].json\n"
     ]
    }
   ],
   "source": [
    "\n",
    "# Write the result to the JSON file\n",
    "with open(json_path, 'w') as json_file:\n",
    "    json.dump(result, json_file, indent=2)\n",
    "\n",
    "print(f\"Results written to {json_path}\")"
   ]
  },
  {
   "cell_type": "code",
   "execution_count": 7,
   "metadata": {},
   "outputs": [
    {
     "data": {
      "text/plain": [
       "array([-5.8207661e-11,  1.1641532e-10,  2.3283064e-10, ...,\n",
       "       -1.3564322e-03, -1.8666589e-03, -1.8949285e-03], dtype=float32)"
      ]
     },
     "execution_count": 7,
     "metadata": {},
     "output_type": "execute_result"
    }
   ],
   "source": [
    "import numpy as np\n",
    "import soundfile as sf\n",
    "\n",
    "def load_audio(file: str):\n",
    "    audio_data, sample_rate = sf.read(file, dtype='float32')\n",
    "    # Ensure audio is mono and at 16kHz\n",
    "    assert sample_rate == 16000, \"Sample rate mismatch\"\n",
    "    assert audio_data.ndim == 1, \"Must be mono\"\n",
    "    return audio_data\n",
    "\n",
    "audio = load_audio(r\"D:\\Repos\\ml\\voice2text\\rust\\output.wav\")\n",
    "audio"
   ]
  },
  {
   "cell_type": "code",
   "execution_count": 8,
   "metadata": {},
   "outputs": [
    {
     "data": {
      "text/plain": [
       "{'segments': [{'text': ' 1, 2, 3, 4, 5, 6.', 'start': 0.008, 'end': 4.582}],\n",
       " 'language': 'en'}"
      ]
     },
     "execution_count": 8,
     "metadata": {},
     "output_type": "execute_result"
    }
   ],
   "source": [
    "audio_model.transcribe(audio, batch_size=16)"
   ]
  },
  {
   "cell_type": "code",
   "execution_count": null,
   "metadata": {},
   "outputs": [],
   "source": []
  }
 ],
 "metadata": {
  "kernelspec": {
   "display_name": "whisperx",
   "language": "python",
   "name": "python3"
  },
  "language_info": {
   "codemirror_mode": {
    "name": "ipython",
    "version": 3
   },
   "file_extension": ".py",
   "mimetype": "text/x-python",
   "name": "python",
   "nbconvert_exporter": "python",
   "pygments_lexer": "ipython3",
   "version": "3.10.13"
  }
 },
 "nbformat": 4,
 "nbformat_minor": 2
}
