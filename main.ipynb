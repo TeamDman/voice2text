{
 "cells": [
  {
   "cell_type": "code",
   "execution_count": 1,
   "metadata": {},
   "outputs": [
    {
     "name": "stdout",
     "output_type": "stream",
     "text": [
      "Recording...\n",
      "Saving as WAV...\n"
     ]
    },
    {
     "ename": "AttributeError",
     "evalue": "module 'sounddevice' has no attribute 'write'",
     "output_type": "error",
     "traceback": [
      "\u001b[1;31m---------------------------------------------------------------------------\u001b[0m",
      "\u001b[1;31mAttributeError\u001b[0m                            Traceback (most recent call last)",
      "\u001b[1;32md:\\Repos\\ml\\voice2text\\main.ipynb Cell 1\u001b[0m line \u001b[0;36m1\n\u001b[0;32m     <a href='vscode-notebook-cell:/d%3A/Repos/ml/voice2text/main.ipynb#W1sZmlsZQ%3D%3D?line=16'>17</a>\u001b[0m \u001b[39m# Step 3: Save as WAV\u001b[39;00m\n\u001b[0;32m     <a href='vscode-notebook-cell:/d%3A/Repos/ml/voice2text/main.ipynb#W1sZmlsZQ%3D%3D?line=17'>18</a>\u001b[0m \u001b[39mprint\u001b[39m(\u001b[39m\"\u001b[39m\u001b[39mSaving as WAV...\u001b[39m\u001b[39m\"\u001b[39m)\n\u001b[1;32m---> <a href='vscode-notebook-cell:/d%3A/Repos/ml/voice2text/main.ipynb#W1sZmlsZQ%3D%3D?line=18'>19</a>\u001b[0m sd\u001b[39m.\u001b[39;49mwrite(filename_wav, audio_data, samplerate)\n\u001b[0;32m     <a href='vscode-notebook-cell:/d%3A/Repos/ml/voice2text/main.ipynb#W1sZmlsZQ%3D%3D?line=20'>21</a>\u001b[0m \u001b[39m# Step 4: Convert to MP3\u001b[39;00m\n\u001b[0;32m     <a href='vscode-notebook-cell:/d%3A/Repos/ml/voice2text/main.ipynb#W1sZmlsZQ%3D%3D?line=21'>22</a>\u001b[0m \u001b[39mprint\u001b[39m(\u001b[39m\"\u001b[39m\u001b[39mConverting to MP3...\u001b[39m\u001b[39m\"\u001b[39m)\n",
      "\u001b[1;31mAttributeError\u001b[0m: module 'sounddevice' has no attribute 'write'"
     ]
    }
   ],
   "source": [
    "import sounddevice as sd\n",
    "import numpy as np\n",
    "from pydub import AudioSegment\n",
    "\n",
    "# Step 2: Record Audio\n",
    "duration = 5  # seconds\n",
    "samplerate = 44100  # Most common sample rate\n",
    "channels = 2  # 1 for mono, 2 for stereo\n",
    "filename_wav = \"recorded_audio.wav\"\n",
    "filename_mp3 = \"recorded_audio.mp3\"\n",
    "\n",
    "# Record the audio\n",
    "print(\"Recording...\")\n",
    "audio_data = sd.rec(int(samplerate * duration), samplerate=samplerate, channels=channels, dtype='int16')\n",
    "sd.wait()\n",
    "\n",
    "# Step 3: Save as WAV\n",
    "print(\"Saving as WAV...\")\n",
    "sd.write(filename_wav, audio_data, samplerate)\n",
    "\n",
    "# Step 4: Convert to MP3\n",
    "print(\"Converting to MP3...\")\n",
    "audio = AudioSegment.from_wav(filename_wav)\n",
    "audio.export(filename_mp3, format=\"mp3\")\n",
    "print(f\"Saved as {filename_mp3}\")\n"
   ]
  },
  {
   "cell_type": "code",
   "execution_count": 2,
   "metadata": {},
   "outputs": [
    {
     "name": "stdout",
     "output_type": "stream",
     "text": [
      "Recording...\n",
      "Converting to MP3...\n"
     ]
    },
    {
     "ename": "TypeError",
     "evalue": "object of type '_io.BytesIO' has no len()",
     "output_type": "error",
     "traceback": [
      "\u001b[1;31m---------------------------------------------------------------------------\u001b[0m",
      "\u001b[1;31mTypeError\u001b[0m                                 Traceback (most recent call last)",
      "\u001b[1;32md:\\Repos\\ml\\voice2text\\main.ipynb Cell 2\u001b[0m line \u001b[0;36m2\n\u001b[0;32m     <a href='vscode-notebook-cell:/d%3A/Repos/ml/voice2text/main.ipynb#W2sZmlsZQ%3D%3D?line=18'>19</a>\u001b[0m \u001b[39m# Convert to MP3\u001b[39;00m\n\u001b[0;32m     <a href='vscode-notebook-cell:/d%3A/Repos/ml/voice2text/main.ipynb#W2sZmlsZQ%3D%3D?line=19'>20</a>\u001b[0m \u001b[39mprint\u001b[39m(\u001b[39m\"\u001b[39m\u001b[39mConverting to MP3...\u001b[39m\u001b[39m\"\u001b[39m)\n\u001b[1;32m---> <a href='vscode-notebook-cell:/d%3A/Repos/ml/voice2text/main.ipynb#W2sZmlsZQ%3D%3D?line=20'>21</a>\u001b[0m audio \u001b[39m=\u001b[39m AudioSegment(\n\u001b[0;32m     <a href='vscode-notebook-cell:/d%3A/Repos/ml/voice2text/main.ipynb#W2sZmlsZQ%3D%3D?line=21'>22</a>\u001b[0m     \u001b[39m# raw audio data (bytes)\u001b[39;49;00m\n\u001b[0;32m     <a href='vscode-notebook-cell:/d%3A/Repos/ml/voice2text/main.ipynb#W2sZmlsZQ%3D%3D?line=22'>23</a>\u001b[0m     data\u001b[39m=\u001b[39;49mBytesIO(audio_data\u001b[39m.\u001b[39;49mastype(\u001b[39m\"\u001b[39;49m\u001b[39mint16\u001b[39;49m\u001b[39m\"\u001b[39;49m)),\n\u001b[0;32m     <a href='vscode-notebook-cell:/d%3A/Repos/ml/voice2text/main.ipynb#W2sZmlsZQ%3D%3D?line=23'>24</a>\u001b[0m     \u001b[39m# 2 byte (16 bit) samples\u001b[39;49;00m\n\u001b[0;32m     <a href='vscode-notebook-cell:/d%3A/Repos/ml/voice2text/main.ipynb#W2sZmlsZQ%3D%3D?line=24'>25</a>\u001b[0m     sample_width\u001b[39m=\u001b[39;49m\u001b[39m2\u001b[39;49m,\n\u001b[0;32m     <a href='vscode-notebook-cell:/d%3A/Repos/ml/voice2text/main.ipynb#W2sZmlsZQ%3D%3D?line=25'>26</a>\u001b[0m     \u001b[39m# 44.1 kHz sample rate\u001b[39;49;00m\n\u001b[0;32m     <a href='vscode-notebook-cell:/d%3A/Repos/ml/voice2text/main.ipynb#W2sZmlsZQ%3D%3D?line=26'>27</a>\u001b[0m     frame_rate\u001b[39m=\u001b[39;49m\u001b[39m44100\u001b[39;49m,\n\u001b[0;32m     <a href='vscode-notebook-cell:/d%3A/Repos/ml/voice2text/main.ipynb#W2sZmlsZQ%3D%3D?line=27'>28</a>\u001b[0m     \u001b[39m# stereo\u001b[39;49;00m\n\u001b[0;32m     <a href='vscode-notebook-cell:/d%3A/Repos/ml/voice2text/main.ipynb#W2sZmlsZQ%3D%3D?line=28'>29</a>\u001b[0m     channels\u001b[39m=\u001b[39;49m\u001b[39m1\u001b[39;49m\n\u001b[0;32m     <a href='vscode-notebook-cell:/d%3A/Repos/ml/voice2text/main.ipynb#W2sZmlsZQ%3D%3D?line=29'>30</a>\u001b[0m )\n\u001b[0;32m     <a href='vscode-notebook-cell:/d%3A/Repos/ml/voice2text/main.ipynb#W2sZmlsZQ%3D%3D?line=31'>32</a>\u001b[0m \u001b[39m# Export MP3\u001b[39;00m\n\u001b[0;32m     <a href='vscode-notebook-cell:/d%3A/Repos/ml/voice2text/main.ipynb#W2sZmlsZQ%3D%3D?line=32'>33</a>\u001b[0m mp3_buffer \u001b[39m=\u001b[39m BytesIO()\n",
      "File \u001b[1;32mc:\\Users\\TeamD\\.conda\\envs\\whisperx\\lib\\site-packages\\pydub\\audio_segment.py:198\u001b[0m, in \u001b[0;36mAudioSegment.__init__\u001b[1;34m(self, data, *args, **kwargs)\u001b[0m\n\u001b[0;32m    196\u001b[0m \u001b[39m# all arguments are given\u001b[39;00m\n\u001b[0;32m    197\u001b[0m \u001b[39melif\u001b[39;00m \u001b[39mself\u001b[39m\u001b[39m.\u001b[39msample_width \u001b[39mis\u001b[39;00m \u001b[39mnot\u001b[39;00m \u001b[39mNone\u001b[39;00m:\n\u001b[1;32m--> 198\u001b[0m     \u001b[39mif\u001b[39;00m \u001b[39mlen\u001b[39;49m(data) \u001b[39m%\u001b[39m (\u001b[39mself\u001b[39m\u001b[39m.\u001b[39msample_width \u001b[39m*\u001b[39m \u001b[39mself\u001b[39m\u001b[39m.\u001b[39mchannels) \u001b[39m!=\u001b[39m \u001b[39m0\u001b[39m:\n\u001b[0;32m    199\u001b[0m         \u001b[39mraise\u001b[39;00m \u001b[39mValueError\u001b[39;00m(\u001b[39m\"\u001b[39m\u001b[39mdata length must be a multiple of \u001b[39m\u001b[39m'\u001b[39m\u001b[39m(sample_width * channels)\u001b[39m\u001b[39m'\u001b[39m\u001b[39m\"\u001b[39m)\n\u001b[0;32m    201\u001b[0m     \u001b[39mself\u001b[39m\u001b[39m.\u001b[39mframe_width \u001b[39m=\u001b[39m \u001b[39mself\u001b[39m\u001b[39m.\u001b[39mchannels \u001b[39m*\u001b[39m \u001b[39mself\u001b[39m\u001b[39m.\u001b[39msample_width\n",
      "\u001b[1;31mTypeError\u001b[0m: object of type '_io.BytesIO' has no len()"
     ]
    }
   ],
   "source": [
    "import sounddevice as sd\n",
    "import numpy as np\n",
    "from pydub import AudioSegment\n",
    "from io import BytesIO\n",
    "\n",
    "# Record Audio\n",
    "duration = 5  # seconds\n",
    "samplerate = 44100  # Most common sample rate\n",
    "channels = 2  # 1 for mono, 2 for stereo\n",
    "\n",
    "# Record the audio\n",
    "print(\"Recording...\")\n",
    "audio_data = sd.rec(int(samplerate * duration), samplerate=samplerate, channels=channels, dtype='float32')\n",
    "sd.wait()\n",
    "\n",
    "# Convert the audio data to mono and normalize\n",
    "audio_data = audio_data.mean(axis=1)  # Convert to mono\n",
    "\n",
    "# Convert to MP3\n",
    "print(\"Converting to MP3...\")\n",
    "audio = AudioSegment(\n",
    "    # raw audio data (bytes)\n",
    "    data=BytesIO(audio_data.astype(\"int16\")),\n",
    "    # 2 byte (16 bit) samples\n",
    "    sample_width=2,\n",
    "    # 44.1 kHz sample rate\n",
    "    frame_rate=44100,\n",
    "    # stereo\n",
    "    channels=1\n",
    ")\n",
    "\n",
    "# Export MP3\n",
    "mp3_buffer = BytesIO()\n",
    "audio.export(mp3_buffer, format=\"mp3\")\n",
    "\n",
    "# Optionally convert buffer to bytes array or save\n",
    "mp3_data = mp3_buffer.getvalue()\n",
    "\n",
    "print(\"Audio recorded and converted to MP3.\")\n"
   ]
  },
  {
   "cell_type": "code",
   "execution_count": null,
   "metadata": {},
   "outputs": [],
   "source": [
    "import whisperx\n",
    "import gc \n",
    "\n",
    "device = \"cuda\" \n",
    "audio_file = \"audio.mp3\"\n",
    "batch_size = 16 # reduce if low on GPU mem\n",
    "compute_type = \"float16\" # change to \"int8\" if low on GPU mem (may reduce accuracy)\n",
    "\n",
    "# 1. Transcribe with original whisper (batched)\n",
    "model = whisperx.load_model(\"large-v2\", device, compute_type=compute_type)\n",
    "\n",
    "audio = whisperx.load_audio(audio_file)\n",
    "result = model.transcribe(audio, batch_size=batch_size)\n",
    "print(result[\"segments\"]) # before alignment\n",
    "\n",
    "# delete model if low on GPU resources\n",
    "# import gc; gc.collect(); torch.cuda.empty_cache(); del model\n",
    "\n",
    "# 2. Align whisper output\n",
    "model_a, metadata = whisperx.load_align_model(language_code=result[\"language\"], device=device)\n",
    "result = whisperx.align(result[\"segments\"], model_a, metadata, audio, device, return_char_alignments=False)\n",
    "\n",
    "print(result[\"segments\"]) # after alignment\n",
    "\n",
    "# delete model if low on GPU resources\n",
    "# import gc; gc.collect(); torch.cuda.empty_cache(); del model_a\n",
    "\n",
    "# 3. Assign speaker labels\n",
    "diarize_model = whisperx.DiarizationPipeline(use_auth_token=YOUR_HF_TOKEN, device=device)\n",
    "\n",
    "# add min/max number of speakers if known\n",
    "diarize_segments = diarize_model(audio)\n",
    "# diarize_model(audio, min_speakers=min_speakers, max_speakers=max_speakers)\n",
    "\n",
    "result = whisperx.assign_word_speakers(diarize_segments, result)\n",
    "print(diarize_segments)\n",
    "print(result[\"segments\"]) # segments are now assigned speaker IDs"
   ]
  }
 ],
 "metadata": {
  "kernelspec": {
   "display_name": "whisperx",
   "language": "python",
   "name": "python3"
  },
  "language_info": {
   "codemirror_mode": {
    "name": "ipython",
    "version": 3
   },
   "file_extension": ".py",
   "mimetype": "text/x-python",
   "name": "python",
   "nbconvert_exporter": "python",
   "pygments_lexer": "ipython3",
   "version": "3.10.13"
  },
  "orig_nbformat": 4
 },
 "nbformat": 4,
 "nbformat_minor": 2
}
